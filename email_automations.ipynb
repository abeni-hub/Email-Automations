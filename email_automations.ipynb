{
 "cells": [
  {
   "cell_type": "code",
   "execution_count": null,
   "metadata": {},
   "outputs": [],
   "source": [
    "import smtplib\n",
    "\n",
    "email = input(\"SENDER EMAIL: \")\n",
    "reciever_email = input(\"RECIEVER EMAIL: \")\n",
    "\n",
    "subject = input(\"SUBJECT: \")\n",
    "message = input(\"MESSAGE: \")\n",
    "\n",
    "text = f\"Subject: {subject}\\n\\n{message}\"\n",
    "\n",
    "server1 = smtlip.SMTP(\"smtp.gmail.com\", 587)\n",
    "server1.starttls()\n",
    "\n",
    "server1.login(email, \"jgtj wpri bjdn atxq\")\n",
    "\n",
    "server1.sendmail(email, reciever_email, text)\n",
    "\n",
    "print(\"Email is sent successfully to \" + reciever_email)"
   ]
  }
 ],
 "metadata": {
  "language_info": {
   "name": "python"
  }
 },
 "nbformat": 4,
 "nbformat_minor": 2
}
