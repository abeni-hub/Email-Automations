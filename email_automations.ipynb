{
 "cells": [
  {
   "cell_type": "code",
   "execution_count": 2,
   "metadata": {},
   "outputs": [
    {
     "name": "stdout",
     "output_type": "stream",
     "text": [
      "Email is sent successfully to ahmtechsolution@gmail.com\n"
     ]
    }
   ],
   "source": [
    "import smtplib\n",
    "\n",
    "email = input(\"SENDER EMAIL: \")\n",
    "reciever_email = input(\"RECIEVER EMAIL: \")\n",
    "\n",
    "subject = input(\"SUBJECT: \")\n",
    "message = input(\"MESSAGE: \")\n",
    "\n",
    "text = f\"Subject: {subject}\\n\\n{message}\"\n",
    "\n",
    "server1 = smtplib.SMTP(\"smtp.gmail.com\", 587)\n",
    "server1.starttls()\n",
    "\n",
    "server1.login(email, \"jgtj wpri bjdn atxq\")\n",
    "\n",
    "server1.sendmail(email, reciever_email, text)\n",
    "\n",
    "print(\"Email is sent successfully to \" + reciever_email)"
   ]
  },
  {
   "cell_type": "code",
   "execution_count": null,
   "metadata": {},
   "outputs": [],
   "source": []
  }
 ],
 "metadata": {
  "kernelspec": {
   "display_name": "Python 3",
   "language": "python",
   "name": "python3"
  },
  "language_info": {
   "codemirror_mode": {
    "name": "ipython",
    "version": 3
   },
   "file_extension": ".py",
   "mimetype": "text/x-python",
   "name": "python",
   "nbconvert_exporter": "python",
   "pygments_lexer": "ipython3",
   "version": "3.13.1"
  }
 },
 "nbformat": 4,
 "nbformat_minor": 2
}
